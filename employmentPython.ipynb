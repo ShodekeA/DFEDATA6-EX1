{
  "nbformat": 4,
  "nbformat_minor": 0,
  "metadata": {
    "colab": {
      "name": "Untitled1.ipynb",
      "provenance": [],
      "authorship_tag": "ABX9TyMIOYk4pdiKB8AWyV3Nw40b",
      "include_colab_link": true
    },
    "kernelspec": {
      "name": "python3",
      "display_name": "Python 3"
    },
    "language_info": {
      "name": "python"
    }
  },
  "cells": [
    {
      "cell_type": "markdown",
      "metadata": {
        "id": "view-in-github",
        "colab_type": "text"
      },
      "source": [
        "<a href=\"https://colab.research.google.com/github/ShodekeA/DFEDATA6-EX1/blob/main/employmentPython.ipynb\" target=\"_parent\"><img src=\"https://colab.research.google.com/assets/colab-badge.svg\" alt=\"Open In Colab\"/></a>"
      ]
    },
    {
      "cell_type": "code",
      "execution_count": 1,
      "metadata": {
        "colab": {
          "base_uri": "https://localhost:8080/"
        },
        "id": "QvRXBzszEncO",
        "outputId": "53062f5c-392f-4f72-9d89-cbc72aa8eb4d"
      },
      "outputs": [
        {
          "output_type": "stream",
          "name": "stdout",
          "text": [
            "[2.6, 4.6, 2.9, 4.0, 4.0]\n"
          ]
        }
      ],
      "source": [
        "import random\n",
        "def diceavg(no_of_throws):\n",
        "  mynum = 0\n",
        "  for i in range(no_of_throws):\n",
        "    mynum += random.randint(1,6)\n",
        "  return mynum/no_of_throws\n",
        "\n",
        "\n",
        "myarray = list()\n",
        "numnum = 0\n",
        "\n",
        "for i in range(5):\n",
        "    numnum = diceavg(10)\n",
        "    myarray.append(numnum)\n",
        "print(myarray)"
      ]
    },
    {
      "cell_type": "code",
      "source": [
        ""
      ],
      "metadata": {
        "id": "IduyYSX_Eoo3"
      },
      "execution_count": null,
      "outputs": []
    }
  ]
}